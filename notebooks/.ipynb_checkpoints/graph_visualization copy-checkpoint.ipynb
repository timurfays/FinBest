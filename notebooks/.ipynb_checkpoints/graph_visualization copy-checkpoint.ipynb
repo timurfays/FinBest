{
 "cells": [
  {
   "cell_type": "code",
   "execution_count": 11,
   "metadata": {},
   "outputs": [
    {
     "ename": "KeyError",
     "evalue": "'community_id'",
     "output_type": "error",
     "traceback": [
      "\u001b[0;31m---------------------------------------------------------------------------\u001b[0m",
      "\u001b[0;31mKeyError\u001b[0m                                  Traceback (most recent call last)",
      "Cell \u001b[0;32mIn[11], line 11\u001b[0m\n\u001b[1;32m      9\u001b[0m \u001b[38;5;66;03m# 2. приводим типы атрибутов к числовым\u001b[39;00m\n\u001b[1;32m     10\u001b[0m \u001b[38;5;28;01mfor\u001b[39;00m _, d \u001b[38;5;129;01min\u001b[39;00m G\u001b[38;5;241m.\u001b[39mnodes(data\u001b[38;5;241m=\u001b[39m\u001b[38;5;28;01mTrue\u001b[39;00m):\n\u001b[0;32m---> 11\u001b[0m     d[\u001b[38;5;124m\"\u001b[39m\u001b[38;5;124mcommunity_id\u001b[39m\u001b[38;5;124m\"\u001b[39m]   \u001b[38;5;241m=\u001b[39m \u001b[38;5;28mint\u001b[39m(\u001b[43md\u001b[49m\u001b[43m[\u001b[49m\u001b[38;5;124;43m\"\u001b[39;49m\u001b[38;5;124;43mcommunity_id\u001b[39;49m\u001b[38;5;124;43m\"\u001b[39;49m\u001b[43m]\u001b[49m)\n\u001b[1;32m     12\u001b[0m     d[\u001b[38;5;124m\"\u001b[39m\u001b[38;5;124minfluence_score\u001b[39m\u001b[38;5;124m\"\u001b[39m] \u001b[38;5;241m=\u001b[39m \u001b[38;5;28mfloat\u001b[39m(d[\u001b[38;5;124m\"\u001b[39m\u001b[38;5;124minfluence_score\u001b[39m\u001b[38;5;124m\"\u001b[39m])\n\u001b[1;32m     14\u001b[0m \u001b[38;5;66;03m# 3. раскладка (k — длина пружины; подберите, если граф крупный)\u001b[39;00m\n",
      "\u001b[0;31mKeyError\u001b[0m: 'community_id'"
     ]
    }
   ],
   "source": [
    "# graph_visualization.py\n",
    "import networkx as nx\n",
    "import matplotlib.pyplot as plt\n",
    "import matplotlib.cm as cm\n",
    "\n",
    "# 1. читаем граф\n",
    "G = nx.read_graphml(\"/home/jovyan/work/reports/client_graph.graphml\")\n",
    "\n",
    "# 2. приводим типы атрибутов к числовым\n",
    "for _, d in G.nodes(data=True):\n",
    "    d[\"community_id\"]   = int(d[\"community_id\"])\n",
    "    d[\"influence_score\"] = float(d[\"influence_score\"])\n",
    "\n",
    "# 3. раскладка (k — длина пружины; подберите, если граф крупный)\n",
    "pos = nx.spring_layout(G, k=0.15, seed=42, weight=\"weight\")\n",
    "\n",
    "# 4. цвета по сообществам\n",
    "communities = [d[\"community_id\"] for _, d in G.nodes(data=True)]\n",
    "uniq = sorted(set(communities))\n",
    "cmap_idx = {c: i / max(len(uniq) - 1, 1) for i, c in enumerate(uniq)}\n",
    "node_colors = [cm.get_cmap(\"tab20\")(cmap_idx[d[\"community_id\"]]) for _, d in G.nodes(data=True)]\n",
    "\n",
    "# 5. размер вершины ~ influence_score (минимум 0.01 чтобы точки не исчезли)\n",
    "node_sizes = [max(d[\"influence_score\"], 0.01) * 800 for _, d in G.nodes(data=True)]\n",
    "\n",
    "# 6. отрисовка\n",
    "plt.figure(figsize=(18, 12))\n",
    "nx.draw_networkx_edges(G, pos, alpha=0.15, width=0.5)\n",
    "nx.draw_networkx_nodes(\n",
    "    G, pos,\n",
    "    node_size=node_sizes,\n",
    "    node_color=node_colors,\n",
    "    edgecolors=\"black\",\n",
    "    linewidths=0.4,\n",
    "    alpha=0.9,\n",
    ")\n",
    "\n",
    "plt.title(\n",
    "    \"Транзакционный граф: цвет — сообщество, размер — influence_score\",\n",
    "    pad=20,\n",
    "    fontsize=14,\n",
    ")\n",
    "plt.axis(\"off\")\n",
    "plt.tight_layout()\n",
    "plt.show()\n"
   ]
  }
 ],
 "metadata": {
  "kernelspec": {
   "display_name": "Python 3 (ipykernel)",
   "language": "python",
   "name": "python3"
  },
  "language_info": {
   "codemirror_mode": {
    "name": "ipython",
    "version": 3
   },
   "file_extension": ".py",
   "mimetype": "text/x-python",
   "name": "python",
   "nbconvert_exporter": "python",
   "pygments_lexer": "ipython3",
   "version": "3.11.6"
  }
 },
 "nbformat": 4,
 "nbformat_minor": 4
}
