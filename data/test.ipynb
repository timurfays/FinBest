{
  "cells": [
    {
      "cell_type": "markdown",
      "metadata": {},
      "source": [
        "# Генерация новых уникальных transaction_id для bank_transactions.csv\n",
        "\n",
        "Этот ноутбук загружает датасеты `clients.csv` и `bank_transactions.csv`, проверяет наличие дубликатов по столбцу `transaction_id` в `bank_transactions.csv`, генерирует новые уникальные `transaction_id` для всех строк и сохраняет обновленный датасет."
      ]
    },
    {
      "cell_type": "code",
      "execution_count": 10,
      "metadata": {},
      "outputs": [
        {
          "name": "stdout",
          "output_type": "stream",
          "text": [
            "Загружено 1200 строк из clients.csv\n",
            "Загружено 4652 строк из bank_transactions.csv\n"
          ]
        }
      ],
      "source": [
        "import pandas as pd\n",
        "import uuid\n",
        "\n",
        "# Загружаем датасеты\n",
        "clients = pd.read_csv('clients.csv')\n",
        "transactions = pd.read_csv('bank_transactions.csv')\n",
        "\n",
        "# Выводим информацию о датасетах\n",
        "print(f\"Загружено {len(clients)} строк из clients.csv\")\n",
        "print(f\"Загружено {len(transactions)} строк из bank_transactions.csv\")\n",
        "\n",
        "# Проверяем наличие столбца transaction_id\n",
        "if 'transaction_id' not in transactions.columns:\n",
        "    raise ValueError(\"Столбец 'transaction_id' отсутствует в bank_transactions.csv\")\n",
        "\n",
        "# Проверяем, что transaction_id не содержит пустых значений\n",
        "if transactions['transaction_id'].isnull().any():\n",
        "    print(f\"Найдено {transactions['transaction_id'].isnull().sum()} пустых значений в transaction_id\")\n",
        "    transactions = transactions.dropna(subset=['transaction_id'])"
      ]
    },
    {
      "cell_type": "markdown",
      "metadata": {},
      "source": [
        "## Проверка дубликатов в bank_transactions.csv\n",
        "\n",
        "Проверяем наличие дубликатов по столбцу `transaction_id` и выводим статистику."
      ]
    },
    {
      "cell_type": "code",
      "execution_count": 11,
      "metadata": {},
      "outputs": [
        {
          "name": "stdout",
          "output_type": "stream",
          "text": [
            "Найдено 1902 дубликатов по transaction_id.\n",
            "Уникальных transaction_id с дубликатами: 145\n",
            "\n",
            "Примеры дублирующихся transaction_id:\n",
            "transaction_id: a5b6c7d8-e9f0-a1b2-c3d4-e5f6a7b8c9d0 (найдено 63 записей)\n",
            "transaction_id: c7d8e9f0-a1b2-c3d4-e5f6-a7b8c9d0e1f2 (найдено 64 записей)\n",
            "transaction_id: e9f0a1b2-c3d4-e5f6-a7b8-c9d0e1f2a3b4 (найдено 64 записей)\n",
            "transaction_id: a1b2c3d4-e5f6-a7b8-c9d0-e1f2a3b4c5d6 (найдено 64 записей)\n",
            "transaction_id: c3d4e5f6-a7b8-c9d0-e1f2-a3b4c5d6e7f8 (найдено 64 записей)\n",
            "\n",
            "Дубликаты сохранены в /data/duplicates_transactions.csv\n"
          ]
        }
      ],
      "source": [
        "# Проверка дубликатов по transaction_id\n",
        "duplicates = transactions[transactions['transaction_id'].duplicated(keep=False)]\n",
        "\n",
        "if not duplicates.empty:\n",
        "    unique_duplicated_ids = duplicates['transaction_id'].unique()\n",
        "    print(f\"Найдено {len(duplicates)} дубликатов по transaction_id.\")\n",
        "    print(f\"Уникальных transaction_id с дубликатами: {len(unique_duplicated_ids)}\")\n",
        "    print(\"\\nПримеры дублирующихся transaction_id:\")\n",
        "    \n",
        "    # Выводим первые 5 дублирующихся transaction_id\n",
        "    for tid in unique_duplicated_ids[:5]:\n",
        "        print(f\"transaction_id: {tid} (найдено {len(transactions[transactions['transaction_id'] == tid])} записей)\")\n",
        "    \n",
        "    # Сохраняем дубликаты в файл для анализа\n",
        "    duplicates.to_csv('duplicates_transactions.csv', index=False)\n",
        "    print(\"\\nДубликаты сохранены в /data/duplicates_transactions.csv\")\n",
        "else:\n",
        "    print(\"Дубликаты по transaction_id не найдены.\")"
      ]
    },
    {
      "cell_type": "markdown",
      "metadata": {},
      "source": [
        "## Генерация новых уникальных transaction_id\n",
        "\n",
        "Генерируем новые уникальные `transaction_id` в формате UUID для всех строк датасета и сохраняем обновленный датасет."
      ]
    },
    {
      "cell_type": "code",
      "execution_count": 13,
      "metadata": {},
      "outputs": [
        {
          "name": "stdout",
          "output_type": "stream",
          "text": [
            "Новые transaction_id уникальны.\n",
            "\n",
            "Первые 5 строк с новыми transaction_id:\n",
            "                         transaction_id\n",
            "0  0ece3492-67f2-43cb-886e-5f99360439fa\n",
            "1  eaef9e16-5429-44aa-bb06-f0f2834ded3a\n",
            "2  ff9ae270-0906-420a-9a3c-ec4856e1cc2f\n",
            "3  51854b88-558d-40fd-9b60-6e4c101c9964\n",
            "4  9390ebae-7d5a-4216-ad68-c7b676852e5d\n",
            "Обновленный датасет сохранен в /data/bank_transactions_new_ids.csv\n"
          ]
        }
      ],
      "source": [
        "# Генерируем новые transaction_id для всех строк\n",
        "transactions['transaction_id'] = [str(uuid.uuid4()) for _ in range(len(transactions))]\n",
        "\n",
        "# Проверяем, остались ли дубликаты\n",
        "new_duplicates = transactions[transactions['transaction_id'].duplicated(keep=False)]\n",
        "if new_duplicates.empty:\n",
        "    print(\"Новые transaction_id уникальны.\")\n",
        "else:\n",
        "    print(f\"Ошибка: найдено {len(new_duplicates)} дубликатов в новых transaction_id. Проверьте генерацию.\")\n",
        "\n",
        "# Выводим первые 5 строк для проверки\n",
        "print(\"\\nПервые 5 строк с новыми transaction_id:\")\n",
        "print(transactions[['transaction_id']].head())\n",
        "\n",
        "# Сохраняем обновленный датасет\n",
        "transactions.to_csv('bank_transactions_new_ids.csv', index=False)\n",
        "print(\"Обновленный датасет сохранен в /data/bank_transactions_new_ids.csv\")"
      ]
    }
  ],
  "metadata": {
    "kernelspec": {
      "display_name": ".venv",
      "language": "python",
      "name": "python3"
    },
    "language_info": {
      "codemirror_mode": {
        "name": "ipython",
        "version": 3
      },
      "file_extension": ".py",
      "mimetype": "text/x-python",
      "name": "python",
      "nbconvert_exporter": "python",
      "pygments_lexer": "ipython3",
      "version": "3.10.12"
    }
  },
  "nbformat": 4,
  "nbformat_minor": 4
}
